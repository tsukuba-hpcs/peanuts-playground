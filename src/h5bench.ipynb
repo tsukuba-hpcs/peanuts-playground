{
 "cells": [
  {
   "cell_type": "code",
   "execution_count": null,
   "metadata": {},
   "outputs": [],
   "source": [
    "%load_ext autoreload\n",
    "%autoreload 2\n",
    "%matplotlib inline"
   ]
  },
  {
   "cell_type": "code",
   "execution_count": null,
   "metadata": {},
   "outputs": [],
   "source": [
    "import os\n",
    "import sys\n",
    "from pathlib import Path\n",
    "import datetime as dt\n",
    "import pandas as pd\n",
    "import polars as pl\n",
    "import numpy as np\n",
    "import matplotlib.pyplot as plt\n",
    "import json\n",
    "import csv\n"
   ]
  },
  {
   "cell_type": "code",
   "execution_count": null,
   "metadata": {},
   "outputs": [],
   "source": [
    "H5BENCH_OUTPUT_DIR = Path(\"../raw/h5bench\")\n",
    "\n",
    "df_plot = (\n",
    "    pl.concat([\n",
    "        pl.read_csv(csv_file)\n",
    "        .select([\n",
    "            pl.col(\"metric\"),\n",
    "            pl.col(\" value\").alias(\"value\"),\n",
    "        ])\n",
    "        .transpose(column_names=\"metric\")\n",
    "        for log_dir in H5BENCH_OUTPUT_DIR.glob(\"*\")\n",
    "        for csv_file in log_dir.glob(\"*.csv\")\n",
    "    ])\n",
    "    .select(\n",
    "        pl.col(\"operation\").str.strip_chars(),\n",
    "        pl.col(\"ranks\").str.strip_chars().cast(pl.Int32),\n",
    "        (pl.col(\"observed rate\").str.strip_chars().cast(pl.Float64) / 1e6).alias(\"bwMB\"),\n",
    "    )\n",
    "    .group_by(\"operation\", \"ranks\")\n",
    "    .agg(pl.mean(\"bwMB\"))\n",
    "    .sort(\"operation\", \"ranks\")\n",
    ")\n",
    "\n",
    "df_plot.head(10)"
   ]
  },
  {
   "cell_type": "code",
   "execution_count": null,
   "metadata": {},
   "outputs": [],
   "source": [
    "for ops in [\"write\", \"read\"]:\n",
    "    fig = plt.figure(figsize=(16, 4), dpi=100)\n",
    "    fig.patch.set_alpha(1)\n",
    "    (\n",
    "        df_plot\n",
    "        .filter(pl.col(\"operation\") == ops)\n",
    "        .select(\"ranks\", \"bwMB\")\n",
    "        .pipe(lambda df: (display(df), df)[-1])\n",
    "        .to_pandas()\n",
    "        .set_index(\"ranks\")\n",
    "        .plot(\n",
    "            ax=fig.add_subplot(),\n",
    "            kind=\"bar\",\n",
    "            xlabel=\"Number of procs\",\n",
    "            ylabel=\"Bandwidth [MB/s]\",\n",
    "            legend=True,\n",
    "            rot=0,\n",
    "            width=0.8,\n",
    "        )\n",
    "        \n",
    "    )\n",
    "    plt.show()"
   ]
  }
 ],
 "metadata": {
  "kernelspec": {
   "display_name": ".venv",
   "language": "python",
   "name": "python3"
  },
  "language_info": {
   "codemirror_mode": {
    "name": "ipython",
    "version": 3
   },
   "file_extension": ".py",
   "mimetype": "text/x-python",
   "name": "python",
   "nbconvert_exporter": "python",
   "pygments_lexer": "ipython3",
   "version": "3.11.2"
  }
 },
 "nbformat": 4,
 "nbformat_minor": 2
}
