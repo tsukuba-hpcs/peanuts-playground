{
 "cells": [
  {
   "cell_type": "code",
   "execution_count": null,
   "metadata": {},
   "outputs": [],
   "source": [
    "%load_ext autoreload\n",
    "%autoreload 2\n",
    "%matplotlib inline"
   ]
  },
  {
   "cell_type": "code",
   "execution_count": null,
   "metadata": {},
   "outputs": [],
   "source": [
    "import os\n",
    "import sys\n",
    "from pathlib import Path\n",
    "import datetime as dt\n",
    "import pandas as pd\n",
    "import polars as pl\n",
    "import numpy as np\n",
    "import matplotlib.pyplot as plt\n",
    "import json\n"
   ]
  },
  {
   "cell_type": "code",
   "execution_count": null,
   "metadata": {},
   "outputs": [],
   "source": [
    "def load_ior_summary_list(json_file: Path):\n",
    "    data = json.loads(json_file.read_text())\n",
    "    return [\n",
    "        {\n",
    "            'Version': data['Version'],\n",
    "            'Began': data['Began'],\n",
    "            'Command line': data['Command line'],\n",
    "            'Machine': data['Machine'],\n",
    "            'Finished': data['Finished'],\n",
    "            **{f'test_{k}': v for k, v in test.items() if k not in [\"Results\", \"max\", \"Parameters\", \"Options\"]},\n",
    "            **{f\"max_{k}\": v for k, v in test[\"max\"].items()},\n",
    "            **{f\"Parameters_{k}\": v for k, v in test[\"Parameters\"].items()},\n",
    "            **{f\"Options_{k}\": v for k, v in test[\"Options\"].items()},\n",
    "            **{f'summary_{k}': v for k, v in data['summary'][index].items()},\n",
    "            **{f'result_{k}': v for k, v in result.items()},\n",
    "            'iorIteration': iteration,\n",
    "        }\n",
    "        for index, test in enumerate(data['tests'])\n",
    "        for iteration, results in enumerate(test[\"Results\"]) # iteration ?\n",
    "        for result in results\n",
    "    ]"
   ]
  },
  {
   "cell_type": "code",
   "execution_count": null,
   "metadata": {},
   "outputs": [],
   "source": [
    "IOR_OUTPUT_DIR = Path(\"../raw/ior\")\n",
    "\n",
    "df_src = pl.DataFrame([\n",
    "    log\n",
    "    for log_dir in IOR_OUTPUT_DIR.glob(\"*\")\n",
    "    for json in log_dir.glob(\"ior_summary_*.json\")\n",
    "    for log in load_ior_summary_list(json)\n",
    "])\n",
    "\n",
    "df_src.head(5)"
   ]
  },
  {
   "cell_type": "code",
   "execution_count": null,
   "metadata": {},
   "outputs": [],
   "source": [
    "df = df_src\n",
    "\n",
    "groupby_columns=[\n",
    "    \"Options_nodes\",\n",
    "    \"summary_numTasks\",\n",
    "    \"summary_reorderTasks\",\n",
    "    \"summary_transferSize\",\n",
    "    \"result_access\",\n",
    "]\n",
    "\n",
    "df_plot = (\n",
    "    df\n",
    "    .with_columns(\n",
    "        pl.col(\"summary_reorderTasks\").cast(pl.Boolean),\n",
    "    )\n",
    "    .group_by(groupby_columns)\n",
    "    .agg([\n",
    "        pl.mean(\"result_bwMiB\").alias(\"result_bwMiB_mean\"),\n",
    "    ])\n",
    ")\n",
    "\n",
    "for access, remote in [(\"write\", False), (\"read\", True), (\"read\", False)]:\n",
    "    print(f\"Access: {access}, Remote: {remote}\")\n",
    "    fig = plt.figure(figsize=(16, 9), dpi=100)\n",
    "    fig.patch.set_alpha(1)\n",
    "    (\n",
    "        df_plot\n",
    "        .filter((pl.col(\"result_access\") == access) & (pl.col(\"summary_reorderTasks\") == remote))\n",
    "        .sort([\"Options_nodes\", \"summary_transferSize\"])\n",
    "        .pivot(values=\"result_bwMiB_mean\", index=\"Options_nodes\", columns=\"summary_transferSize\")\n",
    "        .pipe(lambda df: (display(df), df)[-1])\n",
    "        .to_pandas()\n",
    "        .set_index(\"Options_nodes\")\n",
    "        .plot(\n",
    "            ax=fig.add_subplot(),\n",
    "            kind=\"bar\",\n",
    "            xlabel=\"Number of nodes\",\n",
    "            ylabel=\"Bandwidth [MiB/s]\",\n",
    "            rot=0,\n",
    "            width=0.7,\n",
    "        )\n",
    "    )\n",
    "    plt.show()\n"
   ]
  }
 ],
 "metadata": {
  "kernelspec": {
   "display_name": "Python 3",
   "language": "python",
   "name": "python3"
  },
  "language_info": {
   "codemirror_mode": {
    "name": "ipython",
    "version": 3
   },
   "file_extension": ".py",
   "mimetype": "text/x-python",
   "name": "python",
   "nbconvert_exporter": "python",
   "pygments_lexer": "ipython3",
   "version": "3.11.2"
  }
 },
 "nbformat": 4,
 "nbformat_minor": 2
}
