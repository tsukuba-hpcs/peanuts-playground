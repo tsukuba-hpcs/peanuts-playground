{
 "cells": [
  {
   "cell_type": "code",
   "execution_count": 4,
   "metadata": {},
   "outputs": [
    {
     "name": "stdout",
     "output_type": "stream",
     "text": [
      "The autoreload extension is already loaded. To reload it, use:\n",
      "  %reload_ext autoreload\n"
     ]
    }
   ],
   "source": [
    "%load_ext autoreload\n",
    "%autoreload 2\n",
    "%matplotlib inline"
   ]
  },
  {
   "cell_type": "code",
   "execution_count": 5,
   "metadata": {},
   "outputs": [],
   "source": [
    "import os\n",
    "import sys\n",
    "from pathlib import Path\n",
    "import datetime as dt\n",
    "import pandas as pd\n",
    "import polars as pl\n",
    "import numpy as np\n",
    "import matplotlib.pyplot as plt\n",
    "import json\n"
   ]
  },
  {
   "cell_type": "code",
   "execution_count": 6,
   "metadata": {},
   "outputs": [
    {
     "data": {
      "text/html": [
       "<div><style>\n",
       ".dataframe > thead > tr,\n",
       ".dataframe > tbody > tr {\n",
       "  text-align: right;\n",
       "  white-space: pre-wrap;\n",
       "}\n",
       "</style>\n",
       "<small>shape: (4, 26)</small><table border=\"1\" class=\"dataframe\"><thead><tr><th>version</th><th>nprocs</th><th>topology</th><th>xnp</th><th>ynp</th><th>L</th><th>chunkSizeX</th><th>chunkSizeY</th><th>collective</th><th>iotype</th><th>sync</th><th>validate</th><th>steps</th><th>interval</th><th>fixedX</th><th>fixedY</th><th>initialOutput</th><th>nfiles</th><th>fileSize</th><th>totalWriteSizeByte</th><th>calcTimeSec</th><th>commTimeSec</th><th>writeTimeSec</th><th>writeBandwidthByte</th><th>initialTimeSec</th><th>finalizeTimeSec</th></tr><tr><td>str</td><td>i64</td><td>list[i64]</td><td>i64</td><td>i64</td><td>i64</td><td>i64</td><td>i64</td><td>bool</td><td>str</td><td>bool</td><td>bool</td><td>i64</td><td>i64</td><td>bool</td><td>bool</td><td>bool</td><td>i64</td><td>i64</td><td>i64</td><td>f64</td><td>f64</td><td>f64</td><td>f64</td><td>f64</td><td>f64</td></tr></thead><tbody><tr><td>&quot;0.11.1&quot;</td><td>4</td><td>[4]</td><td>2</td><td>2</td><td>2048</td><td>1024</td><td>1024</td><td>false</td><td>&quot;view&quot;</td><td>false</td><td>false</td><td>640</td><td>64</td><td>false</td><td>false</td><td>false</td><td>10</td><td>33554432</td><td>335544320</td><td>2.61956</td><td>11.198274</td><td>18.085263</td><td>1.8553e7</td><td>0.108041</td><td>1.353927</td></tr><tr><td>&quot;0.11.1&quot;</td><td>1</td><td>[1]</td><td>1</td><td>1</td><td>1024</td><td>1024</td><td>1024</td><td>false</td><td>&quot;view&quot;</td><td>false</td><td>false</td><td>640</td><td>64</td><td>false</td><td>false</td><td>false</td><td>10</td><td>8388608</td><td>83886080</td><td>1.790073</td><td>0.019759</td><td>9.468407</td><td>8.8596e6</td><td>0.016086</td><td>0.053834</td></tr><tr><td>&quot;0.11.1&quot;</td><td>4</td><td>[4]</td><td>2</td><td>2</td><td>2048</td><td>1024</td><td>1024</td><td>false</td><td>&quot;view&quot;</td><td>false</td><td>false</td><td>640</td><td>64</td><td>false</td><td>false</td><td>false</td><td>10</td><td>33554432</td><td>335544320</td><td>2.777714</td><td>0.354933</td><td>11.092619</td><td>3.0249e7</td><td>0.100578</td><td>0.069887</td></tr><tr><td>&quot;0.11.1&quot;</td><td>1</td><td>[1]</td><td>1</td><td>1</td><td>1024</td><td>1024</td><td>1024</td><td>false</td><td>&quot;view&quot;</td><td>false</td><td>false</td><td>640</td><td>64</td><td>false</td><td>false</td><td>false</td><td>10</td><td>8388608</td><td>83886080</td><td>1.85428</td><td>0.022635</td><td>9.347906</td><td>8.9738e6</td><td>0.025864</td><td>0.05934</td></tr></tbody></table></div>"
      ],
      "text/plain": [
       "shape: (4, 26)\n",
       "┌─────────┬────────┬───────────┬─────┬───┬──────────────┬──────────────┬─────────────┬─────────────┐\n",
       "│ version ┆ nprocs ┆ topology  ┆ xnp ┆ … ┆ writeTimeSec ┆ writeBandwid ┆ initialTime ┆ finalizeTim │\n",
       "│ ---     ┆ ---    ┆ ---       ┆ --- ┆   ┆ ---          ┆ thByte       ┆ Sec         ┆ eSec        │\n",
       "│ str     ┆ i64    ┆ list[i64] ┆ i64 ┆   ┆ f64          ┆ ---          ┆ ---         ┆ ---         │\n",
       "│         ┆        ┆           ┆     ┆   ┆              ┆ f64          ┆ f64         ┆ f64         │\n",
       "╞═════════╪════════╪═══════════╪═════╪═══╪══════════════╪══════════════╪═════════════╪═════════════╡\n",
       "│ 0.11.1  ┆ 4      ┆ [4]       ┆ 2   ┆ … ┆ 18.085263    ┆ 1.8553e7     ┆ 0.108041    ┆ 1.353927    │\n",
       "│ 0.11.1  ┆ 1      ┆ [1]       ┆ 1   ┆ … ┆ 9.468407     ┆ 8.8596e6     ┆ 0.016086    ┆ 0.053834    │\n",
       "│ 0.11.1  ┆ 4      ┆ [4]       ┆ 2   ┆ … ┆ 11.092619    ┆ 3.0249e7     ┆ 0.100578    ┆ 0.069887    │\n",
       "│ 0.11.1  ┆ 1      ┆ [1]       ┆ 1   ┆ … ┆ 9.347906     ┆ 8.9738e6     ┆ 0.025864    ┆ 0.05934     │\n",
       "└─────────┴────────┴───────────┴─────┴───┴──────────────┴──────────────┴─────────────┴─────────────┘"
      ]
     },
     "execution_count": 6,
     "metadata": {},
     "output_type": "execute_result"
    }
   ],
   "source": [
    "RDBENCH_OUTPUT_DIR = Path(\"../raw/rdbench\")\n",
    "\n",
    "df_src = pl.DataFrame([\n",
    "    {\n",
    "        key: value\n",
    "        for key, value in json.loads(json_file.read_text()).items()\n",
    "        if key != \"phaseDurationsSec\"\n",
    "    }\n",
    "    for log_dir in RDBENCH_OUTPUT_DIR.glob(\"*\")\n",
    "    for json_file in log_dir.glob(\"rdbench_*.json\")\n",
    "])\n",
    "\n",
    "df_src.head(5)"
   ]
  },
  {
   "cell_type": "code",
   "execution_count": 7,
   "metadata": {},
   "outputs": [
    {
     "data": {
      "text/html": [
       "<div><style>\n",
       ".dataframe > thead > tr,\n",
       ".dataframe > tbody > tr {\n",
       "  text-align: right;\n",
       "  white-space: pre-wrap;\n",
       "}\n",
       "</style>\n",
       "<small>shape: (2, 2)</small><table border=\"1\" class=\"dataframe\"><thead><tr><th>nprocs</th><th>bwMB</th></tr><tr><td>i64</td><td>f64</td></tr></thead><tbody><tr><td>1</td><td>8.91668</td></tr><tr><td>4</td><td>24.4014</td></tr></tbody></table></div>"
      ],
      "text/plain": [
       "shape: (2, 2)\n",
       "┌────────┬─────────┐\n",
       "│ nprocs ┆ bwMB    │\n",
       "│ ---    ┆ ---     │\n",
       "│ i64    ┆ f64     │\n",
       "╞════════╪═════════╡\n",
       "│ 1      ┆ 8.91668 │\n",
       "│ 4      ┆ 24.4014 │\n",
       "└────────┴─────────┘"
      ]
     },
     "metadata": {},
     "output_type": "display_data"
    },
    {
     "data": {
      "text/plain": [
       "<Axes: xlabel='Number of Procs', ylabel='Bandwidth [MB/s]'>"
      ]
     },
     "execution_count": 7,
     "metadata": {},
     "output_type": "execute_result"
    },
    {
     "data": {
      "image/png": "[encoded data removed]",
      "text/plain": [
       "<Figure size 1600x900 with 1 Axes>"
      ]
     },
     "metadata": {},
     "output_type": "display_data"
    }
   ],
   "source": [
    "df = df_src\n",
    "\n",
    "fig = plt.figure(figsize=(16, 9), dpi=100)\n",
    "fig.patch.set_alpha(1)\n",
    "(\n",
    "    df\n",
    "    .group_by(\"nprocs\")\n",
    "    .agg([\n",
    "        pl.mean(\"writeBandwidthByte\"),\n",
    "    ])\n",
    "    .sort(\"nprocs\")\n",
    "    .with_columns(bwMB=pl.col(\"writeBandwidthByte\") / 10**6)\n",
    "    .select([\"nprocs\", \"bwMB\"])\n",
    "    .pipe(lambda df: (display(df), df)[-1])\n",
    "    .to_pandas()\n",
    "    .set_index(\"nprocs\")\n",
    "    .plot(\n",
    "        ax=fig.add_subplot(),\n",
    "        kind=\"bar\",\n",
    "        xlabel=\"Number of Procs\",\n",
    "        ylabel=\"Bandwidth [MB/s]\",\n",
    "        rot=0,\n",
    "        width=0.7,\n",
    "    )\n",
    ")"
   ]
  }
 ],
 "metadata": {
  "kernelspec": {
   "display_name": ".venv",
   "language": "python",
   "name": "python3"
  },
  "language_info": {
   "codemirror_mode": {
    "name": "ipython",
    "version": 3
   },
   "file_extension": ".py",
   "mimetype": "text/x-python",
   "name": "python",
   "nbconvert_exporter": "python",
   "pygments_lexer": "ipython3",
   "version": "3.11.2"
  }
 },
 "nbformat": 4,
 "nbformat_minor": 2
}
