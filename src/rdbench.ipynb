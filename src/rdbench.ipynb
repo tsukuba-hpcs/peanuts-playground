{
 "cells": [
  {
   "cell_type": "code",
   "execution_count": null,
   "metadata": {},
   "outputs": [],
   "source": [
    "%load_ext autoreload\n",
    "%autoreload 2\n",
    "%matplotlib inline"
   ]
  },
  {
   "cell_type": "code",
   "execution_count": null,
   "metadata": {},
   "outputs": [],
   "source": [
    "import os\n",
    "import sys\n",
    "from pathlib import Path\n",
    "import datetime as dt\n",
    "import pandas as pd\n",
    "import polars as pl\n",
    "import numpy as np\n",
    "import matplotlib.pyplot as plt\n",
    "import json\n"
   ]
  },
  {
   "cell_type": "code",
   "execution_count": null,
   "metadata": {},
   "outputs": [],
   "source": [
    "RDBENCH_OUTPUT_DIR = Path(\"../raw/rdbench\")\n",
    "\n",
    "df_src = pl.DataFrame([\n",
    "    {\n",
    "        key: value\n",
    "        for key, value in json.loads(json_file.read_text()).items()\n",
    "        if key != \"phaseDurationsSec\"\n",
    "    }\n",
    "    for log_dir in RDBENCH_OUTPUT_DIR.glob(\"*\")\n",
    "    for json_file in log_dir.glob(\"rdbench_*.json\")\n",
    "])\n",
    "\n",
    "df_src.head(5)"
   ]
  },
  {
   "cell_type": "code",
   "execution_count": null,
   "metadata": {},
   "outputs": [],
   "source": [
    "df = df_src\n",
    "\n",
    "fig = plt.figure(figsize=(16, 9), dpi=100)\n",
    "fig.patch.set_alpha(1)\n",
    "ax = (\n",
    "    df\n",
    "    .group_by(\"nprocs\")\n",
    "    .agg([\n",
    "        pl.mean(\"writeBandwidthByte\"),\n",
    "    ])\n",
    "    .sort(\"nprocs\")\n",
    "    .with_columns(bwMB=pl.col(\"writeBandwidthByte\") / 10**6)\n",
    "    .select([\"nprocs\", \"bwMB\"])\n",
    "    .pipe(lambda df: (display(df), df)[-1])\n",
    "    .to_pandas()\n",
    "    .set_index(\"nprocs\")\n",
    "    .plot(\n",
    "        ax=fig.add_subplot(),\n",
    "        kind=\"bar\",\n",
    "        xlabel=\"Number of Procs\",\n",
    "        ylabel=\"Bandwidth [MB/s]\",\n",
    "        rot=0,\n",
    "        width=0.7,\n",
    "    )\n",
    ")\n",
    "ax.set_title(\"RDBench Write\")"
   ]
  }
 ],
 "metadata": {
  "kernelspec": {
   "display_name": ".venv",
   "language": "python",
   "name": "python3"
  },
  "language_info": {
   "codemirror_mode": {
    "name": "ipython",
    "version": 3
   },
   "file_extension": ".py",
   "mimetype": "text/x-python",
   "name": "python",
   "nbconvert_exporter": "python",
   "pygments_lexer": "ipython3",
   "version": "3.10.12"
  }
 },
 "nbformat": 4,
 "nbformat_minor": 2
}
